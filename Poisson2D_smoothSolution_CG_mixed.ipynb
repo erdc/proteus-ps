{
 "cells": [
  {
   "cell_type": "markdown",
   "metadata": {},
   "source": [
    "Solve the Poisson equation on a square domain.  That is, find $p,\\mathbf{v}:\\Omega \\rightarrow \\Re \\times \\Re^n$ such that\n",
    "$$\n",
    "\\nabla \\cdot \\mathbf{v}  = r(x) \n",
    "$$\n",
    "$$\n",
    "\\mathbf{v} + A \\nabla p  = 0\n",
    "$$\n",
    "on \n",
    "$$\n",
    "\\Omega = [0,1]\\times[0,1]\n",
    "$$\n",
    "where $A$ is constant, and $r(x)$ is a function of space only."
   ]
  },
  {
   "cell_type": "code",
   "execution_count": 1,
   "metadata": {
    "collapsed": false
   },
   "outputs": [],
   "source": [
    "from proteus.iproteus import * #pull in what we need for using proteus interactively\n",
    "Profiling.logLevel=3\n",
    "Profiling.verbose = True"
   ]
  },
  {
   "cell_type": "markdown",
   "metadata": {},
   "source": [
    "Define the PDE by defining the coefficients"
   ]
  },
  {
   "cell_type": "code",
   "execution_count": 2,
   "metadata": {
    "collapsed": false
   },
   "outputs": [],
   "source": [
    "class MixedPoisson(TransportCoefficients.TC_base):\n",
    "    \"\"\"\n",
    "    The coefficients of the Poisson equation \n",
    "    \"\"\"\n",
    "    def __init__(self,A,rofx):\n",
    "        TransportCoefficients.TC_base.__init__(self, \n",
    "                         nc=3, #number of components\n",
    "                         variableNames=['p','v','w'],\n",
    "                         advection = {0:{1:'linear',2:'linear'}, #div(v) div(u)\n",
    "                                      1:{1:'linear'}},#not in equation (would be non-zero for Navier-Stokes)\n",
    "                         hamiltonian = {0:{0:'linear'},#not in equation\n",
    "                                        1:{0:'linear'}, #A grad (p)\n",
    "                                        2:{0:'linear'}},#A grad (p)\n",
    "#                          diffusion = {0:{0:{0:'constant'}},#not  in equation\n",
    "#                                       1:{1:{1:'constant'}}},#the brinkman term - \\epsilon \\grad v\n",
    "#                          potential = {0:{0:'u'},#don't  need\n",
    "#                                       1:{1:'u'}}, #define the potential for the diffusion term to be the solution itself\n",
    "                         reaction  = {0:{0:'constant'}, # not in the equation\n",
    "                                      1:{1:'linear'},\n",
    "                                      2:{2:'linear'}})\n",
    "        self.A=A\n",
    "        self.rofx=rofx\n",
    "        \n",
    "    def evaluate(self,t,c):\n",
    "        \"\"\"\n",
    "        evaluate quadrature point values held in the dictionary c\n",
    "        These are labelled according to the 'master equation.' For example,\n",
    "         \n",
    "        c[('a',0,0)] = diffusion coefficient for the 0th equation (first) with respect to the\n",
    "                       0th potential (the solution itself)\n",
    "                       The value at each quadrature point is a n_d x n_d tensor (n_d=number of space dimensions).\n",
    "                       Usually the tensor values are stored as a flat array in compressed sparse row format to save space. \n",
    "                       By default, we assume the tensor is full though.\n",
    "                       \n",
    "        c[('r',0)]   = reaction term for the 0th equation. This is where we will put the source term\n",
    "        \"\"\"\n",
    "        p = c[('u',0)]\n",
    "        v = c[('u',1)]#1D - x component of velocity\n",
    "        w = c[('u',2)] #1D - y component of velocity\n",
    "        grad_p = c[('grad(u)',0)]\n",
    "        \n",
    "        #equation 0  div(f) + r = 0  (proteus  notation)  div(velocity)=r(x) (our notation)\n",
    "        c[('f',0)][...,0] = v\n",
    "        c[('df',0,1)][...,0] = 1.0  # d_f^0_d_u^0\n",
    "        \n",
    "        c[('f',0)][...,1] = w\n",
    "        c[('df',0,2)][...,1] = 1.0 #df/dw\n",
    "        c[('r',0)][:]     = -self.rofx(c['x'][:])\n",
    "        c[('dr',0,0)][:]   = 0.0\n",
    "        #equation 1   A grad(p) + v + div(-epsilon grad(v)) = 0\n",
    "        c[('H',1)][:] = self.A[0][0]*grad_p[...,0] #A grad(p)\n",
    "        c[('dH',1,0)][...,0] = self.A[0][0] #A\n",
    "        \n",
    "        c[('r',1)][:]     = v \n",
    "        c[('dr',1,1)][:]  = 1.0#1\n",
    "        \n",
    "        #equation 2   A grad(p) + u + div(-epsilon grad(u)) = 0\n",
    "        c[('H',2)][:] = self.A[1][1]*grad_p[...,1] #A grad(p)\n",
    "        c[('dH',2,0)][...,1] = self.A[1][1] #A\n",
    "        \n",
    "        \n",
    "        c[('r',2)][:]     = w \n",
    "        c[('dr',2,2)][:]  = 1.0#1\n",
    "        \n",
    "#         c[('a',1,1)][...,0] = 0.0# -epsilon \\grad v\n",
    "#         c[('da',1,1,1)][...,0] = 0.0# -d_epsilon\n",
    "        #dummy terms\n",
    "#         c[('a',0,0)][...,0] = 0.0\n",
    "#         c[('da',0,0,0)][...,0] = 0.0\n",
    "        c[('f',1)][...,0] = 0.0\n",
    "        c[('df',1,1)][...,0] = 0.0\n",
    "\n",
    "\n",
    "\n"
   ]
  },
  {
   "cell_type": "markdown",
   "metadata": {},
   "source": [
    "Setup the problem to have a solution\n",
    "\n",
    "$$\n",
    "p(x_0) = 1 + \\sin(2\\pi x_0)\n",
    "$$\n",
    "\n",
    "or\n",
    "\n",
    "$$\n",
    "r(x_0) = 8 \\pi^2 \\sin(2\\pi x_0)\n",
    "$$\n",
    "\n",
    "For fun, we can take advantage of sage's symbolic calculus to calculate the correct expression for $r$."
   ]
  },
  {
   "cell_type": "markdown",
   "metadata": {},
   "source": [
    "Define the python functions for evaluating the terms. Note that the x array for the quadrature points will be a\n",
    "\n",
    "multidimensional array. The last dimension will be 3 always though."
   ]
  },
  {
   "cell_type": "code",
   "execution_count": 3,
   "metadata": {
    "collapsed": false
   },
   "outputs": [],
   "source": [
    "#use numpy for evaluations\n",
    "import numpy as np\n",
    "a0 = 2.0\n",
    "def pex0(x):\n",
    "    pi2=2.0*np.pi    \n",
    "    return 1.0 + np.sin(pi2*x[...,0])\n",
    "\n",
    "#note, this is not exact for Stokes\n",
    "def vex0(x):\n",
    "    pi2=2.0*np.pi\n",
    "    return -a0*pi2*np.cos(pi2*x[...,0])\n",
    "\n",
    "def rofx0(x):\n",
    "    pi2=2.0*np.pi\n",
    "    return a0*pi2*pi2*np.sin(pi2*x[...,0])"
   ]
  },
  {
   "cell_type": "markdown",
   "metadata": {},
   "source": [
    "Define the physical input to the model"
   ]
  },
  {
   "cell_type": "code",
   "execution_count": 4,
   "metadata": {
    "collapsed": false
   },
   "outputs": [],
   "source": [
    "#use numpy for evaluations\n",
    "import numpy as np\n",
    "physics = default_p\n",
    "physics.name = \"poisson_2d\"\n",
    "physics.nd = 2; #One dimension\n",
    "#spatial domain\n",
    "physics.L=(1.0,1.0,1.0)\n",
    "\n",
    "#the object for evaluating the coefficients   \n",
    "A  =[[a0,0],[0,a0]]\n",
    "physics.coefficients=MixedPoisson(A,rofx0)\n",
    "\n",
    "#this functions job is to return another function holding the Dirichlet boundary conditions \n",
    "# wherever they are set\n",
    "    \n",
    "eps=1.0e-8\n",
    "boundaryFlags = {'left':1,'right':2,'top':3}\n",
    "def getDBC_p(x,flag):\n",
    "    if x[0] <= 0.0+eps:\n",
    "        return lambda x,t: pex0(x)\n",
    "    elif x[0] >= physics.L[0]-eps:\n",
    "        return lambda x,t: pex0(x)\n",
    "    elif x[1] <= 0.0+eps:\n",
    "        return lambda x,t: pex0(x)\n",
    "    elif x[1] >= physics.L[1]-eps:\n",
    "        return lambda x,t: pex0(x)\n",
    "\n",
    "def getNone(x,flag):\n",
    "    return None\n",
    "\n",
    "def getNoneZeroFlux(x,flag):\n",
    "    if x[0] >= physics.L[0]-eps:\n",
    "        return lambda x,t: vex0(x)\n",
    "\n",
    "def getZeroFlux(x,flag):\n",
    "    if x[1] <= 0.0+eps:\n",
    "        return lambda x,t: 0.0\n",
    "    elif x[1] >= physics.L[0]-eps:\n",
    "        return lambda x,t: 0.0\n",
    "    \n",
    "physics.dirichletConditions = {0:getDBC_p,#pressure Dirichlet\n",
    "                               1:getNone,\n",
    "                               2:getNone}\n",
    "\n",
    "# physics.advectiveFluxBoundaryConditions = {0:getNone,\n",
    "#                                            1:getZeroFlux}#dummy condition for non-existent  advective flux\n",
    "# #there are no diffusion terms in this model, but I had to \n",
    "# physics.diffusiveFluxBoundaryConditions = {0:{0:getZeroFlux},#dummy conditoin for non-existent diffusive flux\n",
    "#                                            1:{1:getZeroFlux}}#viscous flux\n",
    "\n",
    "physics.advectiveFluxBoundaryConditions = {0:getNone,\n",
    "                                           1:getNone,\n",
    "                                           2:getNone}#dummy condition for non-existent  advective flux\n",
    "#there are no diffusion terms in this model, but I had to \n",
    "physics.diffusiveFluxBoundaryConditions = {0:{0:getNone},#dummy conditoin for non-existent diffusive flux\n",
    "                                           1:{1:getNone},\n",
    "                                           2:{2:getNone}}#viscous flux\n",
    "physics.fluxBoundaryConditions = {0:'outFlow',1:'outFlow',2:'outFlow'}"
   ]
  },
  {
   "cell_type": "markdown",
   "metadata": {},
   "source": [
    "Define the numerics input for the problem"
   ]
  },
  {
   "cell_type": "code",
   "execution_count": 36,
   "metadata": {
    "collapsed": false
   },
   "outputs": [],
   "source": [
    "numerics=default_n\n",
    "#piecewise linears\n",
    "numerics.femSpaces = {0:FemTools.C0_AffineLinearOnSimplexWithNodalBasis,#pressure space\n",
    "                      1:FemTools.C0_AffineQuadraticOnSimplexWithNodalBasis,\n",
    "                      2:FemTools.C0_AffineQuadraticOnSimplexWithNodalBasis}#velocity space\n",
    "#Quadrature rules for elements and element  boundaries\n",
    "numerics.elementQuadrature = Quadrature.SimplexGaussQuadrature(physics.nd,4)\n",
    "numerics.elementBoundaryQuadrature = Quadrature.SimplexGaussQuadrature(physics.nd-1,4)\n",
    "#number of nodes in the x and y direction\n",
    "numerics.nn = 81\n",
    "#numerics.nny= 11\n",
    "#matrix type\n",
    "numerics.numericalFluxType = NumericalFlux.StrongDirichletFactory(physics.fluxBoundaryConditions)\n",
    "#numerics.numericalFluxType = MixedDarcy_exterior\n",
    "#numerics.numericalFluxType = NumericalFlux.Advection_DiagonalUpwind_Diffusion_IIPG_exterior\n",
    "#numerics.numericalFluxType = NumericalFlux.Advection_Diagonal_average\n",
    "numerics.matrix = LinearAlgebraTools.SparseMatrix\n",
    "#use petsc solvers wrapped by petsc4py\n",
    "#numerics.multilevelLinearSolver = LinearSolvers.KSP_petsc4py\n",
    "#numerics.levelLinearSolver = LinearSolvers.KSP_petsc4py\n",
    "#using petsc4py requires weak boundary condition enforcement\n",
    "#can also use our internal wrapper for SuperLU\n",
    "numerics.multilevelLinearSolver = LinearSolvers.LU\n",
    "numerics.levelLinearSolver = LinearSolvers.LU\n",
    "\n",
    "#linear solve rtolerance\n",
    "numerics.l_atol_res = 1.0e-8\n",
    "numerics.nl_atol_res = 1.0e-4\n",
    "numerics.periodicDirichletConditions=None\n",
    "#\n",
    "# split operator options (trivial since we're not splitting)\n",
    "#\n",
    "so = default_so\n",
    "so.name = physics.name\n",
    "so.sList=[default_s]\n",
    "so.tnList = [0,1]"
   ]
  },
  {
   "cell_type": "markdown",
   "metadata": {},
   "source": [
    "Construct a NumericalSolution object and solve the problem"
   ]
  },
  {
   "cell_type": "code",
   "execution_count": 37,
   "metadata": {
    "collapsed": false
   },
   "outputs": [
    {
     "name": "stdout",
     "output_type": "stream",
     "text": [
      "[   10477] Initializing NumericalSolution for poisson_2d\n",
      " System includes: \n",
      "poisson_2d\n",
      "\n",
      "[   10477] Setting Archiver(s)\n",
      "[   10477] Setting up MultilevelMesh\n",
      "[   10477] Building one multilevel mesh for all models\n",
      "[   10477] Generating mesh for poisson_2d\n",
      "[   10477] Building 81 x 81 rectangular mesh for poisson_2d\n",
      "[   10477] Partitioning mesh among 1 processors using partitioningType = 0\n",
      "[   10477] Number of Subdomain Elements Owned= 12800\n",
      "[   10477] Number of Subdomain Elements = 12800\n",
      "[   10477] Number of Subdomain Nodes Owned= 6561\n",
      "[   10477] Number of Subdomain Nodes = 6561\n",
      "[   10477] Number of Subdomain elementBoundaries Owned= 19360\n",
      "[   10477] Number of Subdomain elementBoundaries = 19360\n",
      "[   10477] Number of Subdomain Edges Owned= 19360\n",
      "[   10477] Number of Subdomain Edges = 19360\n",
      "[   10477] Finished partitioning\n",
      "[   10477] *** Global ***\n",
      "Number of triangles  : 12800\n",
      "Number of edges : 19360\n",
      "Number of nodes : 6561\n",
      "\n",
      "*** Local ***\n",
      "Number of triangles  : 12800\n",
      "Number of edges : 19360\n",
      "Number of nodes : 6561\n",
      "\n",
      "[   10477] Setting up MultilevelTransport for poisson_2d\n",
      "[   10477] Building Transport for each mesh\n",
      "[   10477] Generating Trial Space\n",
      "[   10477] Generating Test Space\n",
      "[   10477] Allocating u\n",
      "[   10477] Allocating phi\n",
      "[   10477] Setting Boundary Conditions\n",
      "[   10477] Setting Boundary Conditions-1\n",
      "[   10477] Setting Boundary Conditions-2\n",
      "[   10477] Setting Boundary Conditions-2a\n",
      "[   10480] Setting Boundary Conditions-3\n",
      "[   10480] Setting Boundary Conditions-4\n",
      "[   10480] Initializing OneLevelTransport\n",
      "[   10480] Updating local to global mappings\n",
      "[   10480] Building time integration object\n",
      "[   10480] Calculating numerical quadrature formulas\n",
      "fluxBoundaryCondition_components set([0, 1, 2])\n",
      "[   10480] Allocating residual and solution vectors\n",
      "[   10480] Allocating Jacobian\n",
      "[   10480] Building sparse matrix structure\n",
      "[   10482] Allocating parallel storage\n",
      "[   10482] Building Mesh Transfers\n",
      "[   10482] Setting poisson_2d stepController to proteus.StepControl.SC_base\n",
      "[   10482] Setting up MultilevelLinearSolver forpoisson_2d\n",
      "[   10482] multilevelLinearSolverChooser type= proteus.LinearSolvers.LU\n",
      "[   10482] Setting up MultilevelNonLinearSolver for poisson_2d\n",
      "[   10482] Finished setting up models and solvers\n",
      "[   10482] Setting up SimTools for poisson_2d\n",
      "[   10482] Using tnList from so = poisson_2d\n",
      "[   10482] Time sequence[0, 1]\n",
      "[   10482] Setting poisson_2d systemStepController to object of type proteus.SplitOperator.Sequential_MinModelStep\n",
      "[   10482] Finished NumericalSolution initialization\n",
      "[   10482] Setting initial conditions\n",
      "[   10482] No initial conditions provided for model poisson_2d\n",
      "[   10482] Attaching models and running spin-up step if requested\n",
      "[   10482] Archiving initial conditions\n",
      "[   10482] Estimating initial time derivative and initializing time history for model poisson_2d\n",
      "[   10482] Choosing initial time step for model poisson_2d\n",
      "[   10482] Initializing time step on model poisson_2d to dt =  1.00000e+00\n",
      "[   10482] Initializing time history for model step controller\n",
      "[   10482] Auxiliary variable calculations for model poisson_2d\n",
      "[   10482] Initializing time step on system Default System to dt =  1.00000e+00\n",
      "[   10482] Initializing step sequence for system Default System to [(1, <proteus.Transport.MultilevelTransport instance at 0x1154e75a8>)]\n",
      "[   10482] Starting time stepping\n",
      "[   10482] ==============================================================\n",
      "[   10482] Solving over interval [ 0.00000e+00, 1.00000e+00]\n",
      "[   10482] ==============================================================\n",
      "[   10482] Model: poisson_2d\n",
      "[   10482] StepControl base stepExact t_model= 1 tOut= 1 t_model_last= 0 dt_model= 1 setting to 1 \n",
      "[   10482]    Newton it 0 norm(r) =  7.41007e-01  \t\t norm(r)/(rtol*norm(r0)+atol) = 98.6685 test=r\n",
      "[   10493]    Newton it 1 norm(r) =  2.06630e-13  \t\t norm(r)/(rtol*norm(r0)+atol) =  2.75137e-11\n",
      "[   10493] Step Taken, System time step t= 2.00000e+00, dt= 1.00000e+00\n",
      "[   10493] Step Taken, Model step t= 2.00000e+00, dt= 1.00000e+00 for model poisson_2d\n",
      "[   10493] Closing solution archive for poisson_2d\n",
      "[   10493] Closing Archive\n",
      "[   10493] Done Closing Archive\n"
     ]
    }
   ],
   "source": [
    "ns = NumericalSolution.NS_base(so,[physics],[numerics],so.sList,opts)\n",
    "ns.calculateSolution('run1')\n",
    "#arrays for using matplotlib's unstructured plotting interface\n",
    "x = ns.modelList[0].levelModelList[-1].mesh.nodeArray[:,0]\n",
    "y = ns.modelList[0].levelModelList[-1].mesh.nodeArray[:,1]\n",
    "triangles = ns.modelList[0].levelModelList[-1].mesh.elementNodesArray\n",
    "p = ns.modelList[0].levelModelList[-1].u[0].dof\n",
    "v = ns.modelList[0].levelModelList[-1].u[1].dof\n",
    "w = ns.modelList[0].levelModelList[-1].u[2].dof"
   ]
  },
  {
   "cell_type": "markdown",
   "metadata": {},
   "source": [
    "Plot the solution with matplotlib. Only works for $C^0 P^1$ right now"
   ]
  },
  {
   "cell_type": "code",
   "execution_count": 38,
   "metadata": {
    "collapsed": false,
    "scrolled": true
   },
   "outputs": [
    {
     "name": "stdout",
     "output_type": "stream",
     "text": [
      "Populating the interactive namespace from numpy and matplotlib\n"
     ]
    }
   ],
   "source": [
    "%pylab inline"
   ]
  },
  {
   "cell_type": "code",
   "execution_count": 39,
   "metadata": {
    "collapsed": false
   },
   "outputs": [
    {
     "data": {
      "image/png": "[encoded data removed]",
      "text/plain": [
       "<matplotlib.figure.Figure at 0x109215910>"
      ]
     },
     "metadata": {},
     "output_type": "display_data"
    }
   ],
   "source": [
    "import matplotlib.pyplot as plt\n",
    "fig, (ax1,ax2) = plt.subplots(2,1)\n",
    "ax1.plot(x,p)\n",
    "useTH=True\n",
    "if not useTH:\n",
    "    ax2.plot(x,v[:numerics.nn])\n",
    "else:\n",
    "    xm = np.array(0.5*(x[:-1]+x[1:]))\n",
    "    xq=[];\n",
    "    vq=[];\n",
    "    pq=[];\n",
    "    for i in range(numerics.nn-1):\n",
    "        xq.append(x[i])\n",
    "        vq.append(v[i])\n",
    "#    uq.append(u[i])\n",
    "        xq.append(xm[i])\n",
    "        vq.append(v[numerics.nn+i])\n",
    "#    uq.append(u[numerics.nn+i])\n",
    "    xq.append(x[-1])\n",
    "    vq.append(v[-1])\n",
    "#uq.append(u[-1])\n",
    "#xq = np.concatenate([x,xm])\n",
    "#xq.append(x1[-1])\n",
    "#ax1.plot(xq,uq)\n",
    "    ax2.plot(xq,vq)"
   ]
  },
  {
   "cell_type": "code",
   "execution_count": 53,
   "metadata": {
    "collapsed": false
   },
   "outputs": [
    {
     "name": "stdout",
     "output_type": "stream",
     "text": [
      "6561\n"
     ]
    },
    {
     "data": {
      "text/plain": [
       "25921"
      ]
     },
     "execution_count": 53,
     "metadata": {},
     "output_type": "execute_result"
    },
    {
     "data": {
      "image/png": "[encoded data removed]",
      "text/plain": [
       "<matplotlib.figure.Figure at 0x109bbd490>"
      ]
     },
     "metadata": {},
     "output_type": "display_data"
    }
   ],
   "source": [
    "fig1= plt.subplot(2,2,1)\n",
    "plt.gca().set_aspect('equal')\n",
    "plt.tricontourf(x,y,triangles,p)\n",
    "plt.colorbar()\n",
    "\n",
    "\n",
    "\n"
   ]
  },
  {
   "cell_type": "code",
   "execution_count": 41,
   "metadata": {
    "collapsed": false
   },
   "outputs": [
    {
     "data": {
      "text/plain": [
       "array([  0.00000000e+00,  -7.84590957e-02,  -1.56434465e-01, ...,\n",
       "         1.56434465e-01,   7.84590957e-02,   2.22044605e-16])"
      ]
     },
     "execution_count": 41,
     "metadata": {},
     "output_type": "execute_result"
    }
   ],
   "source": [
    "pex0(x) - p"
   ]
  },
  {
   "cell_type": "code",
   "execution_count": 42,
   "metadata": {
    "collapsed": false
   },
   "outputs": [
    {
     "name": "stdout",
     "output_type": "stream",
     "text": [
      "[ 0.  0.  0. ...,  0.  0.  0.]\n"
     ]
    }
   ],
   "source": [
    "def pex(x):\n",
    "    pi2=2.0*np.pi    \n",
    "    return 1.0 + np.sin(pi2*x) \n",
    "perror = [pex(i) for i in x]\n",
    "perror = perror - p\n",
    "print perror"
   ]
  },
  {
   "cell_type": "markdown",
   "metadata": {},
   "source": [
    "Compare to the exact solution, evaluated at the degrees of freedom. Again, only works for $C^0 P^1$ elements"
   ]
  },
  {
   "cell_type": "code",
   "execution_count": 43,
   "metadata": {
    "collapsed": false
   },
   "outputs": [],
   "source": [
    "import numpy as np\n",
    "pex_vals = pex0(ns.modelList[0].levelModelList[-1].mesh.nodeArray)\n",
    "vex_vals = vex0(ns.modelList[0].levelModelList[-1].mesh.nodeArray)\n",
    "rex_vals = rofx0(ns.modelList[0].levelModelList[-1].mesh.nodeArray)\n"
   ]
  },
  {
   "cell_type": "code",
   "execution_count": 44,
   "metadata": {
    "collapsed": false
   },
   "outputs": [
    {
     "data": {
      "text/plain": [
       "<matplotlib.text.Text at 0x13d27bcd0>"
      ]
     },
     "execution_count": 44,
     "metadata": {},
     "output_type": "execute_result"
    },
    {
     "data": {
      "image/png": "[encoded data removed]",
      "text/plain": [
       "<matplotlib.figure.Figure at 0x109181250>"
      ]
     },
     "metadata": {},
     "output_type": "display_data"
    }
   ],
   "source": [
    "fig, (ax1,ax2,ax3) = plt.subplots(3,1)\n",
    "ax1.plot(x,pex_vals)\n",
    "ax1.set_xlabel('x')\n",
    "ax1.set_ylabel('u exact') \n",
    "ax2.plot(x,vex_vals)\n",
    "ax2.set_xlabel('x')\n",
    "ax2.set_ylabel('v exact')\n",
    "ax3.plot(x,rex_vals)\n",
    "ax3.set_xlabel('x')\n",
    "ax3.set_ylabel('r exact')"
   ]
  },
  {
   "cell_type": "code",
   "execution_count": 45,
   "metadata": {
    "collapsed": false
   },
   "outputs": [
    {
     "name": "stdout",
     "output_type": "stream",
     "text": [
      "(6561,) (6560,)\n",
      "[-12.51648103 -12.45677044 -12.31012534 ..., -12.37615625 -12.51201099\n",
      " -12.57073908]\n",
      "[-12.56637061 -12.52763269 -12.41165774 ...,  -0.          -0.          -0.        ]\n",
      "Trapezoidal rule approx for error at dofs for nx=81 ny=0.00234393646493 is 159.473085359 \n"
     ]
    },
    {
     "data": {
      "image/png": "[encoded data removed]",
      "text/plain": [
       "<matplotlib.figure.Figure at 0x109215110>"
      ]
     },
     "metadata": {},
     "output_type": "display_data"
    }
   ],
   "source": [
    "err_p = p-pex_vals\n",
    "err_p *= err_p\n",
    "\n",
    "err_p *= physics.L[0]*physics.L[1]/(numerics.nn)\n",
    "L2approx_p = np.sqrt(err_p.sum())\n",
    "print x.shape,xm.shape\n",
    "xxm=np.concatenate((x,xm))\n",
    "# xxm.sort()\n",
    "\n",
    "vtrue = 0.0*v\n",
    "for i, val in enumerate(xxm):\n",
    "    vtrue[i] = vex0(np.array([val]))\n",
    "\n",
    "print v   \n",
    "print vtrue\n",
    "err_v = v-vtrue\n",
    "plt.plot(err_v)\n",
    "err_v *= err_v\n",
    "err_v *= physics.L[0]*physics.L[1]/(numerics.nn)\n",
    "L2approx_v = np.sqrt(err_v.sum())\n",
    "print \"Trapezoidal rule approx for error at dofs for nx=%s ny=%s is %s \" % (numerics.nn,L2approx_p,L2approx_v)"
   ]
  },
  {
   "cell_type": "code",
   "execution_count": 46,
   "metadata": {
    "collapsed": false
   },
   "outputs": [
    {
     "name": "stdout",
     "output_type": "stream",
     "text": [
      "-12.5663706144\n"
     ]
    }
   ],
   "source": [
    "\n",
    "print vex0(xxm)"
   ]
  },
  {
   "cell_type": "code",
   "execution_count": 47,
   "metadata": {
    "collapsed": false
   },
   "outputs": [
    {
     "name": "stdout",
     "output_type": "stream",
     "text": [
      "[ 0.      0.0125  0.025  ...,  0.975   0.9875  1.    ]\n"
     ]
    }
   ],
   "source": [
    "print x"
   ]
  },
  {
   "cell_type": "code",
   "execution_count": null,
   "metadata": {
    "collapsed": true
   },
   "outputs": [],
   "source": []
  },
  {
   "cell_type": "code",
   "execution_count": null,
   "metadata": {
    "collapsed": true
   },
   "outputs": [],
   "source": []
  }
 ],
 "metadata": {
  "kernelspec": {
   "display_name": "Python 2",
   "language": "python",
   "name": "python2"
  },
  "language_info": {
   "codemirror_mode": {
    "name": "ipython",
    "version": 2
   },
   "file_extension": ".py",
   "mimetype": "text/x-python",
   "name": "python",
   "nbconvert_exporter": "python",
   "pygments_lexer": "ipython2",
   "version": "2.7.9"
  }
 },
 "nbformat": 4,
 "nbformat_minor": 0
}
